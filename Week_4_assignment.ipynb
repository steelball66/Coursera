{
  "metadata": {
    "kernelspec": {
      "name": "python",
      "display_name": "Pyolite",
      "language": "python"
    },
    "language_info": {
      "codemirror_mode": {
        "name": "python",
        "version": 3
      },
      "file_extension": ".py",
      "mimetype": "text/x-python",
      "name": "python",
      "nbconvert_exporter": "python",
      "pygments_lexer": "ipython3",
      "version": "3.8"
    }
  },
  "nbformat_minor": 4,
  "nbformat": 4,
  "cells": [
    {
      "cell_type": "markdown",
      "source": "<center>\n    <img src=\"https://s3-api.us-geo.objectstorage.softlayer.net/cf-courses-data/CognitiveClass/Logos/organization_logo/organization_logo.png\" width=\"300\" alt=\"cognitiveclass.ai logo\"  />\n</center>\n",
      "metadata": {}
    },
    {
      "cell_type": "markdown",
      "source": "# \"My Jupyter Notebook on IBM Watson Studio\"\n",
      "metadata": {}
    },
    {
      "cell_type": "markdown",
      "source": "<b>Devin Nicholson</b><br>\nData Analyst / Data Scientist",
      "metadata": {
        "tags": []
      }
    },
    {
      "cell_type": "markdown",
      "source": "<i>I am interested in data science becuase data is fun to work with. Finding the answers you are looking for by solving the puzzle that is a data set is exciting to me. It is also a plus that this is a skill that will be very valuable to have for the forseeable future. </i>",
      "metadata": {}
    },
    {
      "cell_type": "markdown",
      "source": "### The code below is an addition problem",
      "metadata": {}
    },
    {
      "cell_type": "code",
      "source": "1+1",
      "metadata": {
        "trusted": true
      },
      "execution_count": 1,
      "outputs": [
        {
          "execution_count": 1,
          "output_type": "execute_result",
          "data": {
            "text/plain": "2"
          },
          "metadata": {}
        }
      ]
    },
    {
      "cell_type": "markdown",
      "source": "<a href=\"devinmnicholson.com\">My Website</a>\n<ol>\n  <li>Item 1</li>\n  <li>Item 2</li>\n  <li>Item 3</li>\n</ol>\n<table>\n  <tr>\n    <th>1</th>\n    <th>2</th>\n    <th>3</th>\n  </tr>\n  <tr>\n    <td>123 </td>\n       <td>456</td>   \n       <td>789</td>   \n  </tr>\n  <tr>\n   <td>123</td>   \n       <td>456</td>   \n       <td>789</td> \n \n <tr>\n    <td>123</td>   \n       <td>456</td>   \n       <td>789</td>  \n </tr>\n <tr>\n   <td>123</td>   \n   <td>456</td>   \n   <td>789</td>  \n  </tr>\n</table>",
      "metadata": {}
    },
    {
      "cell_type": "code",
      "source": "",
      "metadata": {},
      "execution_count": null,
      "outputs": []
    }
  ]
}